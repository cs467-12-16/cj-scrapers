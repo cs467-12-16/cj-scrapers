{
 "cells": [
  {
   "cell_type": "code",
   "execution_count": 1,
   "metadata": {
    "collapsed": true
   },
   "outputs": [],
   "source": [
    "import json"
   ]
  },
  {
   "cell_type": "code",
   "execution_count": 2,
   "metadata": {
    "collapsed": false
   },
   "outputs": [],
   "source": [
    "data = {}\n",
    "with open('json/suggested/cs_suggested.json', 'r') as f:\n",
    "    data = json.load(f)\n",
    "    curr_semester = 'S'\n",
    "    with open('json/semesters/cs_info-spring.json', 'r') as f2:\n",
    "        coursedata = json.load(f2)\n",
    "        for y in data:\n",
    "            classes = data[y][curr_semester]\n",
    "            for i in range(len(classes)):\n",
    "                cl = classes[i]\n",
    "                dept = cl['section']\n",
    "                num = str(int(cl['number']))\n",
    "                if dept != 'CS' or (dept == 'CS' and num != '374'):\n",
    "                    data[y][curr_semester][i]['locations'] = dict()\n",
    "                    for s in coursedata[dept][num]:\n",
    "                        section = coursedata[dept][num][s]\n",
    "                        for k in range(len(section)):\n",
    "                            if section[k].get('days') is not None:\n",
    "                                days = list(section[k]['days'].strip())\n",
    "                                for j in range(len(days)):\n",
    "                                    if data[y][curr_semester][i]['locations'].get(days[j]) is None:\n",
    "                                        data[y][curr_semester][i]['locations'][days[j]] = []\n",
    "                                    data[y][curr_semester][i]['locations'][days[j]].append(section[k])\n",
    "    curr_semester = 'F'\n",
    "    with open('json/semesters/cs_info-fall.json', 'r') as f3:\n",
    "        coursedata = json.load(f3)\n",
    "        for y in data:\n",
    "            classes = data[y][curr_semester]\n",
    "            for i in range(len(classes)):\n",
    "                cl = classes[i]\n",
    "                dept = cl['section']\n",
    "                num = str(int(cl['number']))\n",
    "                if dept != 'CS' or (dept == 'CS' and num != '374'):\n",
    "                    data[y][curr_semester][i]['locations'] = dict()\n",
    "                    for s in coursedata[dept][num]:\n",
    "                        section = coursedata[dept][num][s]\n",
    "                        for k in range(len(section)):\n",
    "                            if section[k].get('days') is not None:\n",
    "                                days = list(section[k]['days'].strip())\n",
    "                                for j in range(len(days)):\n",
    "                                    if data[y][curr_semester][i]['locations'].get(days[j]) is None:\n",
    "                                        data[y][curr_semester][i]['locations'][days[j]] = []\n",
    "                                    data[y][curr_semester][i]['locations'][days[j]].append(section[k])"
   ]
  },
  {
   "cell_type": "code",
   "execution_count": 3,
   "metadata": {
    "collapsed": false
   },
   "outputs": [],
   "source": [
    "with open('json/weekly/cs_weekly.json', 'w') as f3:\n",
    "    json.dump(data, f3)"
   ]
  },
  {
   "cell_type": "code",
   "execution_count": 4,
   "metadata": {
    "collapsed": false
   },
   "outputs": [],
   "source": [
    "data = {}\n",
    "with open('json/suggested/ce_suggested.json', 'r') as f:\n",
    "    data = json.load(f)\n",
    "    curr_semester = 'S'\n",
    "    with open('json/semesters/ece_info-spring.json', 'r') as f2:\n",
    "        coursedata = json.load(f2)\n",
    "        for y in data:\n",
    "            classes = data[y][curr_semester]\n",
    "            for i in range(len(classes)):\n",
    "                cl = classes[i]\n",
    "                dept = cl['section']\n",
    "                num = str(int(cl['number']))\n",
    "                if dept != 'CS' or (dept == 'CS' and num != '374'):\n",
    "                    data[y][curr_semester][i]['locations'] = dict()\n",
    "                    for s in coursedata[dept][num]:\n",
    "                        section = coursedata[dept][num][s]\n",
    "                        for k in range(len(section)):\n",
    "                            if section[k].get('days') is not None:\n",
    "                                days = list(section[k]['days'].strip())\n",
    "                                for j in range(len(days)):\n",
    "                                    if data[y][curr_semester][i]['locations'].get(days[j]) is None:\n",
    "                                        data[y][curr_semester][i]['locations'][days[j]] = []\n",
    "                                    data[y][curr_semester][i]['locations'][days[j]].append(section[k])\n",
    "    curr_semester = 'F'\n",
    "    with open('json/semesters/ece_info-fall.json', 'r') as f3:\n",
    "        coursedata = json.load(f3)\n",
    "        for y in data:\n",
    "            classes = data[y][curr_semester]\n",
    "            for i in range(len(classes)):\n",
    "                cl = classes[i]\n",
    "                dept = cl['section']\n",
    "                num = str(int(cl['number']))\n",
    "                if dept != 'CS' or (dept == 'CS' and num != '374'):\n",
    "                    data[y][curr_semester][i]['locations'] = dict()\n",
    "                    for s in coursedata[dept][num]:\n",
    "                        section = coursedata[dept][num][s]\n",
    "                        for k in range(len(section)):\n",
    "                            if section[k].get('days') is not None:\n",
    "                                days = list(section[k]['days'].strip())\n",
    "                                for j in range(len(days)):\n",
    "                                    if data[y][curr_semester][i]['locations'].get(days[j]) is None:\n",
    "                                        data[y][curr_semester][i]['locations'][days[j]] = []\n",
    "                                    data[y][curr_semester][i]['locations'][days[j]].append(section[k])"
   ]
  },
  {
   "cell_type": "code",
   "execution_count": 5,
   "metadata": {
    "collapsed": false
   },
   "outputs": [],
   "source": [
    "with open('json/weekly/ce_weekly.json', 'w') as f3:\n",
    "    json.dump(data, f3)"
   ]
  },
  {
   "cell_type": "code",
   "execution_count": 6,
   "metadata": {
    "collapsed": false
   },
   "outputs": [
    {
     "name": "stdout",
     "output_type": "stream",
     "text": [
      "CHEM 102\n",
      "CHEM 103\n",
      "MATH 221\n",
      "RHET 105\n",
      "ENG 100\n",
      "ECE 110\n",
      "ECE 313\n",
      "ECE 329\n",
      "HIST 172\n",
      "ECE 415\n",
      "ECE 422\n",
      "ECE 445\n",
      "ECE 428\n",
      "ECE 402\n",
      "ECE 476\n",
      "MATH 461\n",
      "MATH 241\n",
      "PHYS 212\n",
      "ECE 220\n",
      "HIST 100\n"
     ]
    }
   ],
   "source": [
    "data = {}\n",
    "with open('json/suggested/ee_suggested.json', 'r') as f:\n",
    "    data = json.load(f)\n",
    "    curr_semester = 'S'\n",
    "    with open('json/semesters/ece_info-spring.json', 'r') as f2:\n",
    "        coursedata = json.load(f2)\n",
    "        for y in data:\n",
    "            classes = data[y][curr_semester]\n",
    "            for i in range(len(classes)):\n",
    "                cl = classes[i]\n",
    "                dept = cl['section']\n",
    "                num = str(int(cl['number']))\n",
    "                if dept != 'CS' or (dept == 'CS' and num != '374'):\n",
    "                    data[y][curr_semester][i]['locations'] = dict()\n",
    "                    for s in coursedata[dept][num]:\n",
    "                        section = coursedata[dept][num][s]\n",
    "                        for k in range(len(section)):\n",
    "                            if section[k].get('days') is not None:\n",
    "                                days = list(section[k]['days'].strip())\n",
    "                                for j in range(len(days)):\n",
    "                                    if data[y][curr_semester][i]['locations'].get(days[j]) is None:\n",
    "                                        data[y][curr_semester][i]['locations'][days[j]] = []\n",
    "                                    data[y][curr_semester][i]['locations'][days[j]].append(section[k])\n",
    "    curr_semester = 'F'\n",
    "    with open('json/semesters/ece_info-fall.json', 'r') as f3:\n",
    "        coursedata = json.load(f3)\n",
    "        for y in data:\n",
    "            classes = data[y][curr_semester]\n",
    "            for i in range(len(classes)):\n",
    "                cl = classes[i]\n",
    "                dept = cl['section']\n",
    "                num = str(int(cl['number']))\n",
    "                if dept != 'CS' or (dept == 'CS' and num != '374') or (num != '417'):\n",
    "                    print(dept, num)\n",
    "                    data[y][curr_semester][i]['locations'] = dict()\n",
    "                    for s in coursedata[dept][num]:\n",
    "                        section = coursedata[dept][num][s]\n",
    "                        for k in range(len(section)):\n",
    "                            if section[k].get('days') is not None:\n",
    "                                days = list(section[k]['days'].strip())\n",
    "                                for j in range(len(days)):\n",
    "                                    if data[y][curr_semester][i]['locations'].get(days[j]) is None:\n",
    "                                        data[y][curr_semester][i]['locations'][days[j]] = []\n",
    "                                    data[y][curr_semester][i]['locations'][days[j]].append(section[k])"
   ]
  },
  {
   "cell_type": "code",
   "execution_count": 7,
   "metadata": {
    "collapsed": false
   },
   "outputs": [],
   "source": [
    "with open('json/weekly/ee_weekly.json', 'w') as f3:\n",
    "    json.dump(data, f3)"
   ]
  },
  {
   "cell_type": "code",
   "execution_count": 8,
   "metadata": {
    "collapsed": false
   },
   "outputs": [],
   "source": [
    "data = {}\n",
    "with open('json/suggested/act_suggested.json', 'r') as f:\n",
    "    data = json.load(f)\n",
    "    curr_semester = 'S'\n",
    "    with open('json/semesters/act_info-spring.json', 'r') as f2:\n",
    "        coursedata = json.load(f2)\n",
    "        for y in data:\n",
    "            classes = data[y][curr_semester]\n",
    "            for i in range(len(classes)):\n",
    "                cl = classes[i]\n",
    "                dept = cl['section']\n",
    "                num = str(int(cl['number']))\n",
    "                if dept != 'CS' or (dept == 'CS' and num != '374'):\n",
    "                    data[y][curr_semester][i]['locations'] = dict()\n",
    "                    for s in coursedata[dept][num]:\n",
    "                        section = coursedata[dept][num][s]\n",
    "                        for k in range(len(section)):\n",
    "                            if section[k].get('days') is not None:\n",
    "                                days = list(section[k]['days'].strip())\n",
    "                                for j in range(len(days)):\n",
    "                                    if data[y][curr_semester][i]['locations'].get(days[j]) is None:\n",
    "                                        data[y][curr_semester][i]['locations'][days[j]] = []\n",
    "                                    data[y][curr_semester][i]['locations'][days[j]].append(section[k])\n",
    "    curr_semester = 'F'\n",
    "    with open('json/semesters/act_info-fall.json', 'r') as f3:\n",
    "        coursedata = json.load(f3)\n",
    "        for y in data:\n",
    "            classes = data[y][curr_semester]\n",
    "            for i in range(len(classes)):\n",
    "                cl = classes[i]\n",
    "                dept = cl['section']\n",
    "                num = str(int(cl['number']))\n",
    "                if dept != 'CS' or (dept == 'CS' and num != '374'):\n",
    "                    data[y][curr_semester][i]['locations'] = dict()\n",
    "                    for s in coursedata[dept][num]:\n",
    "                        section = coursedata[dept][num][s]\n",
    "                        for k in range(len(section)):\n",
    "                            if section[k].get('days') is not None:\n",
    "                                days = list(section[k]['days'].strip())\n",
    "                                for j in range(len(days)):\n",
    "                                    if data[y][curr_semester][i]['locations'].get(days[j]) is None:\n",
    "                                        data[y][curr_semester][i]['locations'][days[j]] = []\n",
    "                                    data[y][curr_semester][i]['locations'][days[j]].append(section[k])"
   ]
  },
  {
   "cell_type": "code",
   "execution_count": 9,
   "metadata": {
    "collapsed": false
   },
   "outputs": [],
   "source": [
    "with open('json/weekly/act_weekly.json', 'w') as f3:\n",
    "    json.dump(data, f3)"
   ]
  },
  {
   "cell_type": "code",
   "execution_count": null,
   "metadata": {
    "collapsed": true
   },
   "outputs": [],
   "source": []
  }
 ],
 "metadata": {
  "kernelspec": {
   "display_name": "Python 3",
   "language": "python",
   "name": "python3"
  },
  "language_info": {
   "codemirror_mode": {
    "name": "ipython",
    "version": 3
   },
   "file_extension": ".py",
   "mimetype": "text/x-python",
   "name": "python",
   "nbconvert_exporter": "python",
   "pygments_lexer": "ipython3",
   "version": "3.5.1"
  }
 },
 "nbformat": 4,
 "nbformat_minor": 0
}
