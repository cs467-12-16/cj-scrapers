{
 "cells": [
  {
   "cell_type": "code",
   "execution_count": 1,
   "metadata": {
    "collapsed": true
   },
   "outputs": [],
   "source": [
    "import json"
   ]
  },
  {
   "cell_type": "code",
   "execution_count": 2,
   "metadata": {
    "collapsed": true
   },
   "outputs": [],
   "source": [
    "base_url = 'json/semesters/'\n",
    "majors = ['act', 'cs', 'ece']\n",
    "semesters = ['fall','spring']\n",
    "extension = '.json'\n",
    "buildings = dict()"
   ]
  },
  {
   "cell_type": "code",
   "execution_count": 3,
   "metadata": {
    "collapsed": false
   },
   "outputs": [
    {
     "name": "stdout",
     "output_type": "stream",
     "text": [
      "['MATH 221', 'ECON 102', 'AAS 100', 'HIST 100', 'CS 101', 'MATH 231', 'ECON 103', 'PHYS 211', 'MATH 241', 'MATH 210', 'HIST 172', 'MUS 133', 'ECON 202', 'MATH 408', 'ACCY 200', 'STAT 400', 'ECON 203', 'MATH 476', 'FIN 321', 'PHYS 212', 'ECON 302', 'MATH 478', 'MATH 469', 'ECON 303', 'ECON 420', 'MATH 409', 'MATH 471', 'FIN 230', 'FIN 221', 'MATH 472', 'MATH 410', 'FIN 300', 'ECON 220', 'CHEM 102', 'CHEM 103', 'RHET 105', 'CS 100', 'CS 125', 'ENG 100', 'CS 173', 'PSYC 100', 'CS 225', 'CS 241', 'CS 233', 'MATH 415', 'PHYS 214', 'HIST 120', 'CS 421', 'CS 440', 'CS 461', 'CS 492', 'CS 493', 'CS 467', 'CS 412', 'MATH 461', 'CS 210', 'CS 242', 'CS 374', 'CS 418', 'CS 465', 'CS 411', 'CS 357', 'ECE 120', 'ECE 110', 'ECE 220', 'MATH 286', 'ECE 210', 'ECE 411', 'ECE 422', 'ECE 402', 'MATH 412', 'MATH 464', 'ECE 403', 'ECE 438', 'ECE 414', 'ECE 453', 'ECE 313', 'ECE 428', 'ECE 329', 'PHYS 213', 'ECE 391', 'ECE 448', 'ECE 445', 'ECE 476', 'ECE 498', 'ECE 415', 'ECE 340', 'ECE 385', 'ECE 418', 'ECE 463', 'HIST 106']\n"
     ]
    }
   ],
   "source": [
    "sections_needed = dict()\n",
    "majors_t = ['act', 'cs', 'ce', 'ee']\n",
    "extension = '.json'\n",
    "class_things = []\n",
    "for major in majors_t:\n",
    "    url_o = 'json/suggested/' + major + '_suggested.json'\n",
    "    with open(url_o, 'r') as jsonfile:\n",
    "        schedules = json.load(jsonfile)\n",
    "        for year in schedules:\n",
    "            for sem in schedules[year]:\n",
    "                for i in range(len(schedules[year][sem])):\n",
    "                    cl = schedules[year][sem][i]\n",
    "                    str2 = cl['section'] + ' ' + str(int(cl['number']))\n",
    "                    try:\n",
    "                        index = class_things.index(str2)\n",
    "                    except:\n",
    "                        class_things.append(str2)\n",
    "print(class_things)"
   ]
  },
  {
   "cell_type": "code",
   "execution_count": 4,
   "metadata": {
    "collapsed": false
   },
   "outputs": [
    {
     "name": "stdout",
     "output_type": "stream",
     "text": [
      "{'Burrill Hall': 1, 'Animal Sciences Laboratory': 1, 'Mechanical Engineering Bldg': 1, 'Business Instructional Fac': 1, 'Speech & Hearing Science Bldg': 1, 'Temple Hoyne Buell Hall': 1, 'Foellinger Auditorium': 1, '901 W Oregon': 1, 'Library': 1, 'Loomis Laboratory': 1, 'Illini Hall': 1, 'Music Building': 1, 'Smith Memorial Hall': 1, 'Agricultural Engr Sciences Bld': 1, 'Psychology Building': 1, 'National Soybean Res Ctr': 1, 'Everitt Elec & Comp Engr Lab': 1, 'Wohlers Hall': 1, 'English Building': 1, 'Weston Hall': 1, 'Engineering Hall': 1, 'Foreign Languages Building': 1, 'Digital Computer Laboratory': 1, 'Pennsylvania Lounge Bld - PAR': 1, 'Transportation Building': 1, 'Henry Administration Bldg': 1, 'Noyes Laboratory': 1, 'Mumford Hall': 1, 'Bevier Hall': 1, 'Ceramics Building': 1, 'Gregory Hall': 1, 'Materials Science & Eng Bld': 1, 'Turner Hall': 1, 'Armory': 1, 'David Kinley Hall': 1, 'Lincoln Hall': 1, 'Allen Residence Hall': 1, 'Siebel Center for Comp Sci': 1, 'Davenport Hall': 1, 'Altgeld Hall': 1, 'Talbot Laboratory': 1, 'Electrical & Computer Eng Bldg': 1}\n"
     ]
    }
   ],
   "source": [
    "for major in majors:\n",
    "    for semester in semesters:\n",
    "        url = base_url + major + '_info-' + semester + extension\n",
    "        with open(url, 'r') as jsonfile:\n",
    "            classes = json.load(jsonfile)\n",
    "            for dept in classes:\n",
    "                for class_number in classes[dept]:\n",
    "                    try:\n",
    "                        str3 = dept + ' ' + str(class_number)\n",
    "                        if class_things.index(str3) >= 0:\n",
    "                            for section in classes[dept][class_number]:\n",
    "                                for meeting in classes[dept][class_number][section]:\n",
    "                                    try:\n",
    "                                        if buildings.get(meeting['place']) is None:\n",
    "                                            buildings[meeting['place']] = 1\n",
    "                                    except:\n",
    "                                        continue\n",
    "                    except:\n",
    "                        continue\n",
    "print(buildings)"
   ]
  },
  {
   "cell_type": "code",
   "execution_count": 5,
   "metadata": {
    "collapsed": false
   },
   "outputs": [],
   "source": [
    "with open('json/buildings2.json', 'w') as jsonfile:\n",
    "    building = [key for key in buildings.keys()]\n",
    "    json.dump(building, jsonfile)"
   ]
  },
  {
   "cell_type": "code",
   "execution_count": null,
   "metadata": {
    "collapsed": true
   },
   "outputs": [],
   "source": []
  }
 ],
 "metadata": {
  "kernelspec": {
   "display_name": "Python 3",
   "language": "python",
   "name": "python3"
  },
  "language_info": {
   "codemirror_mode": {
    "name": "ipython",
    "version": 3
   },
   "file_extension": ".py",
   "mimetype": "text/x-python",
   "name": "python",
   "nbconvert_exporter": "python",
   "pygments_lexer": "ipython3",
   "version": "3.5.1"
  }
 },
 "nbformat": 4,
 "nbformat_minor": 0
}
