{
 "cells": [
  {
   "cell_type": "code",
   "execution_count": 1,
   "metadata": {
    "collapsed": true
   },
   "outputs": [],
   "source": [
    "import json"
   ]
  },
  {
   "cell_type": "code",
   "execution_count": 4,
   "metadata": {
    "collapsed": true
   },
   "outputs": [],
   "source": [
    "base_url = 'json/semesters/'\n",
    "majors = ['act', 'cs', 'ece']\n",
    "semesters = ['fall','spring']\n",
    "extension = '.json'\n",
    "buildings = dict()"
   ]
  },
  {
   "cell_type": "code",
   "execution_count": 12,
   "metadata": {
    "collapsed": false
   },
   "outputs": [
    {
     "name": "stdout",
     "output_type": "stream",
     "text": [
      "{'Animal Sciences Laboratory': 1, 'Education Building': 1, 'National Soybean Res Ctr': 1, 'Allen Residence Hall': 1, 'Everitt Elec & Comp Engr Lab': 1, 'Digital Computer Laboratory': 1, 'Lincoln Hall': 1, 'Mumford Hall': 1, 'Burrill Hall': 1, 'Temple Hoyne Buell Hall': 1, 'Library': 1, 'Architecture Building': 1, 'Engineering Hall': 1, 'Business Instructional Fac': 1, 'ACES Lib, Info & Alum Ctr': 1, '505 E Green': 1, 'Talbot Laboratory': 1, 'Siebel Center for Comp Sci': 1, 'Mechanical Engineering Bldg': 1, 'Weston Hall': 1, 'Noyes Laboratory': 1, 'Atmospheric Sciences Bldg': 1, 'Electrical & Computer Eng Bldg': 1, 'Altgeld Hall': 1, 'Newmark Civil Engineering Bldg': 1, 'Gregory Hall': 1, 'Grad Sch of Lib & Info Science': 1, 'Armory': 1, 'English Building': 1, 'Agricultural Engr Sciences Bld': 1, 'Roger Adams Laboratory': 1, 'Bevier Hall': 1, 'Foreign Languages Building': 1, 'Materials Science & Eng Bld': 1, 'David Kinley Hall': 1, '1206 W. Nevada Street': 1, '1205 W Nevada': 1, 'Foellinger Auditorium': 1, 'Krannert Art Museum': 1, 'Speech & Hearing Science Bldg': 1, 'Loomis Laboratory': 1, 'Psychology Building': 1, '1207 W Oregon': 1, 'Davenport Hall': 1, 'Ceramics Building': 1, 'Wohlers Hall': 1, 'Engineering Sciences Building': 1, 'Transportation Building': 1, 'Illini Hall': 1, 'Flagg Hall': 1, 'Henry Administration Bldg': 1, 'Illinois Street Residence Lng': 1, 'Pennsylvania Lounge Bld - PAR': 1, 'Mechanical Engineering Lab': 1, 'Grainger Engineering Library': 1, '901 W Oregon': 1}\n"
     ]
    }
   ],
   "source": [
    "for major in majors:\n",
    "    for semester in semesters:\n",
    "        url = base_url + major + '_info-' + semester + extension\n",
    "        with open(url, 'r') as jsonfile:\n",
    "            classes = json.load(jsonfile)\n",
    "            for dept in classes:\n",
    "                for class_number in classes[dept]:\n",
    "                    for section in classes[dept][class_number]:\n",
    "                        for meeting in classes[dept][class_number][section]:\n",
    "                            try:\n",
    "                                if buildings.get(meeting['place']) is None:\n",
    "                                    buildings[meeting['place']] = 1\n",
    "                            except:\n",
    "                                continue\n",
    "\n",
    "print(buildings)"
   ]
  },
  {
   "cell_type": "code",
   "execution_count": 17,
   "metadata": {
    "collapsed": false
   },
   "outputs": [],
   "source": [
    "with open('json/buildings.json', 'w') as jsonfile:\n",
    "    building = [key for key in buildings.keys()]\n",
    "    json.dump(building, jsonfile)"
   ]
  },
  {
   "cell_type": "code",
   "execution_count": null,
   "metadata": {
    "collapsed": true
   },
   "outputs": [],
   "source": []
  }
 ],
 "metadata": {
  "kernelspec": {
   "display_name": "Python 3",
   "language": "python",
   "name": "python3"
  },
  "language_info": {
   "codemirror_mode": {
    "name": "ipython",
    "version": 3
   },
   "file_extension": ".py",
   "mimetype": "text/x-python",
   "name": "python",
   "nbconvert_exporter": "python",
   "pygments_lexer": "ipython3",
   "version": "3.5.1"
  }
 },
 "nbformat": 4,
 "nbformat_minor": 0
}
