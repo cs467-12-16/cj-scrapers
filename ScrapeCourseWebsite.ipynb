{
 "cells": [
  {
   "cell_type": "code",
   "execution_count": null,
   "metadata": {
    "collapsed": false
   },
   "outputs": [],
   "source": [
    "from bs4 import BeautifulSoup\n",
    "from urllib import request\n",
    "import lxml, json"
   ]
  },
  {
   "cell_type": "code",
   "execution_count": null,
   "metadata": {
    "collapsed": true
   },
   "outputs": [],
   "source": [
    "base_url = 'https://courses.illinois.edu/cisapp/explorer/schedule/2015/fall'\n",
    "extension = '.xml'\n",
    "timeout = 1000000000\n",
    "departments = dict()\n",
    "classes = dict()\n",
    "sections = dict()\n",
    "cs_specific_info = dict()"
   ]
  },
  {
   "cell_type": "code",
   "execution_count": null,
   "metadata": {
    "collapsed": false
   },
   "outputs": [],
   "source": [
    "url = base_url + extension\n",
    "content = request.urlopen(url).read()\n",
    "soup = BeautifulSoup(content, 'lxml')\n",
    "subjects = soup.find_all('subject')\n",
    "for subject in subjects:\n",
    "    departments[subject['id']] = subject['href']"
   ]
  },
  {
   "cell_type": "code",
   "execution_count": null,
   "metadata": {
    "collapsed": false
   },
   "outputs": [],
   "source": [
    "with open('json/departments-fall.json', 'w') as deptsfile:\n",
    "    json.dump(departments, deptsfile)"
   ]
  },
  {
   "cell_type": "code",
   "execution_count": null,
   "metadata": {
    "collapsed": false
   },
   "outputs": [],
   "source": [
    "for key in departments.keys():\n",
    "    classes[key] = dict()\n",
    "    url = departments[key]\n",
    "    content = request.urlopen(url).read()\n",
    "    soup = BeautifulSoup(content, 'lxml')\n",
    "    courses = soup.find_all('course')\n",
    "    for course in courses:\n",
    "        # exclude 500 level courses\n",
    "        try:\n",
    "            if course['id'].index('5') == 0:\n",
    "                continue\n",
    "            classes[key][course['id']] = course['href']\n",
    "        except:\n",
    "            classes[key][course['id']] = course['href']"
   ]
  },
  {
   "cell_type": "code",
   "execution_count": null,
   "metadata": {
    "collapsed": true
   },
   "outputs": [],
   "source": [
    "with open('json/classes-fall.json', 'w') as classesfile:\n",
    "    json.dump(classes, classesfile)"
   ]
  },
  {
   "cell_type": "code",
   "execution_count": null,
   "metadata": {
    "collapsed": true
   },
   "outputs": [],
   "source": [
    "courses_used = ['CS', 'ENG', 'RHET', 'CHEM', 'STAT', 'PSYC', 'SPAN', 'ECON', 'HIST', 'PHYS', 'MATH', 'AAS', 'MUS']"
   ]
  },
  {
   "cell_type": "code",
   "execution_count": null,
   "metadata": {
    "collapsed": false
   },
   "outputs": [],
   "source": [
    "for c in courses_used:\n",
    "    cs_specific_info[c] = dict()\n",
    "    for course in classes[c]:\n",
    "        cs_specific_info[c][course] = dict()\n",
    "        url = classes[c][course]\n",
    "        content = request.urlopen(url).read()\n",
    "        soup = BeautifulSoup(content, 'lxml')\n",
    "        sections = soup.find_all('section')\n",
    "        for section in sections:\n",
    "            url_2 = section['href']\n",
    "            content_2 = request.urlopen(url_2).read()\n",
    "            soup_2 = BeautifulSoup(content_2, 'lxml')\n",
    "            meetings = soup_2.find_all('meeting')\n",
    "            cs_specific_info[c][course][section['id']] = []\n",
    "            for meeting in meetings:\n",
    "                children = meeting.findChildren()\n",
    "                meeting_dict = dict()\n",
    "                for child in children:\n",
    "                    if child.name == 'type':\n",
    "                        meeting_dict['type'] = child['code']\n",
    "                    elif child.name == 'start':\n",
    "                        meeting_dict['start'] = child.text\n",
    "                    elif child.name == 'end':\n",
    "                        meeting_dict['end'] = child.text\n",
    "                    elif child.name == 'daysoftheWeek':\n",
    "                        meeting_dict['days'] = child.text\n",
    "                    elif child.name == 'buildingname':\n",
    "                        meeting_dict['place'] = child.text\n",
    "                cs_specific_info[c][course][section['id']].append(meeting_dict)"
   ]
  },
  {
   "cell_type": "code",
   "execution_count": null,
   "metadata": {
    "collapsed": false
   },
   "outputs": [],
   "source": [
    "with open('json/cs_info-fall.json', 'w') as csfile:\n",
    "    json.dump(cs_specific_info, csfile)"
   ]
  },
  {
   "cell_type": "code",
   "execution_count": null,
   "metadata": {
    "collapsed": true
   },
   "outputs": [],
   "source": [
    "courses_used = ['CS', 'STAT', 'MATH', 'FIN', 'ECON', 'BIOL', 'PHYS', 'ATMS', 'MUS', 'AAS', 'HIST']\n",
    "act_specific_info = dict()\n",
    "for c in courses_used:\n",
    "    act_specific_info[c] = dict()\n",
    "    for course in classes[c]:\n",
    "        act_specific_info[c][course] = dict()\n",
    "        url = classes[c][course]\n",
    "        content = request.urlopen(url).read()\n",
    "        soup = BeautifulSoup(content, 'lxml')\n",
    "        sections = soup.find_all('section')\n",
    "        for section in sections:\n",
    "            url_2 = section['href']\n",
    "            content_2 = request.urlopen(url_2).read()\n",
    "            soup_2 = BeautifulSoup(content_2, 'lxml')\n",
    "            meetings = soup_2.find_all('meeting')\n",
    "            act_specific_info[c][course][section['id']] = []\n",
    "            for meeting in meetings:\n",
    "                children = meeting.findChildren()\n",
    "                meeting_dict = dict()\n",
    "                for child in children:\n",
    "                    if child.name == 'type':\n",
    "                        meeting_dict['type'] = child['code']\n",
    "                    elif child.name == 'start':\n",
    "                        meeting_dict['start'] = child.text\n",
    "                    elif child.name == 'end':\n",
    "                        meeting_dict['end'] = child.text\n",
    "                    elif child.name == 'daysoftheWeek':\n",
    "                        meeting_dict['days'] = child.text\n",
    "                    elif child.name == 'buildingname':\n",
    "                        meeting_dict['place'] = child.text\n",
    "                act_specific_info[c][course][section['id']].append(meeting_dict)"
   ]
  },
  {
   "cell_type": "code",
   "execution_count": null,
   "metadata": {
    "collapsed": true
   },
   "outputs": [],
   "source": [
    "with open('json/act_info-fall.json', 'w') as actfile:\n",
    "    json.dump(act_specific_info, actfile)"
   ]
  },
  {
   "cell_type": "code",
   "execution_count": null,
   "metadata": {
    "collapsed": true
   },
   "outputs": [],
   "source": [
    "courses_used = ['ECE', 'CS', 'MATH', 'CHEM', 'PHYS', 'RHET', 'PSYC', 'ECON', 'SPAN', 'ENG', 'AAS', 'MUS', 'HIST']\n",
    "ece_specific_info = dict()\n",
    "for c in courses_used:\n",
    "    ece_specific_info[c] = dict()\n",
    "    for course in classes[c]:\n",
    "        ece_specific_info[c][course] = dict()\n",
    "        url = classes[c][course]\n",
    "        content = request.urlopen(url).read()\n",
    "        soup = BeautifulSoup(content, 'lxml')\n",
    "        sections = soup.find_all('section')\n",
    "        for section in sections:\n",
    "            url_2 = section['href']\n",
    "            content_2 = request.urlopen(url_2).read()\n",
    "            soup_2 = BeautifulSoup(content_2, 'lxml')\n",
    "            meetings = soup_2.find_all('meeting')\n",
    "            ece_specific_info[c][course][section['id']] = []\n",
    "            for meeting in meetings:\n",
    "                children = meeting.findChildren()\n",
    "                meeting_dict = dict()\n",
    "                for child in children:\n",
    "                    if child.name == 'type':\n",
    "                        meeting_dict['type'] = child['code']\n",
    "                    elif child.name == 'start':\n",
    "                        meeting_dict['start'] = child.text\n",
    "                    elif child.name == 'end':\n",
    "                        meeting_dict['end'] = child.text\n",
    "                    elif child.name == 'daysoftheWeek':\n",
    "                        meeting_dict['days'] = child.text\n",
    "                    elif child.name == 'buildingname':\n",
    "                        meeting_dict['place'] = child.text\n",
    "                ece_specific_info[c][course][section['id']].append(meeting_dict)"
   ]
  },
  {
   "cell_type": "code",
   "execution_count": null,
   "metadata": {
    "collapsed": true
   },
   "outputs": [],
   "source": [
    "with open('json/ece_info-fall.json', 'w') as ecefile:\n",
    "    json.dump(ece_specific_info, ecefile)"
   ]
  },
  {
   "cell_type": "code",
   "execution_count": null,
   "metadata": {
    "collapsed": true
   },
   "outputs": [],
   "source": []
  }
 ],
 "metadata": {
  "kernelspec": {
   "display_name": "Python 3",
   "language": "python",
   "name": "python3"
  },
  "language_info": {
   "codemirror_mode": {
    "name": "ipython",
    "version": 3
   },
   "file_extension": ".py",
   "mimetype": "text/x-python",
   "name": "python",
   "nbconvert_exporter": "python",
   "pygments_lexer": "ipython3",
   "version": "3.5.1"
  }
 },
 "nbformat": 4,
 "nbformat_minor": 0
}
